{
  "nbformat": 4,
  "nbformat_minor": 0,
  "metadata": {
    "colab": {
      "name": "SOLID 원칙 1. 단일 책임 원칙",
      "provenance": [],
      "collapsed_sections": [],
      "authorship_tag": "ABX9TyNkuiKW9VoDKXKKSI5ZDiFK",
      "include_colab_link": true
    },
    "kernelspec": {
      "name": "python3",
      "display_name": "Python 3"
    },
    "language_info": {
      "name": "python"
    }
  },
  "cells": [
    {
      "cell_type": "markdown",
      "metadata": {
        "id": "view-in-github",
        "colab_type": "text"
      },
      "source": [
        "<a href=\"https://colab.research.google.com/github/1ser1n1/-/blob/main/SOLID_%EC%9B%90%EC%B9%99_1_%EB%8B%A8%EC%9D%BC_%EC%B1%85%EC%9E%84_%EC%9B%90%EC%B9%99.ipynb\" target=\"_parent\"><img src=\"https://colab.research.google.com/assets/colab-badge.svg\" alt=\"Open In Colab\"/></a>"
      ]
    },
    {
      "cell_type": "markdown",
      "source": [
        "# **SOLID 원칙**"
      ],
      "metadata": {
        "id": "e8xUosRrBuyk"
      }
    },
    {
      "cell_type": "markdown",
      "source": [
        "SOLID이라는 뜻은 '견고한'이다.\n",
        "SOLID의 모든 원칙들을 지키면 유연하고 유지보수하기 수운 견고한 코드를 만들 수 있다는 것이다.\n",
        "\n",
        "\n",
        "> **SOLID의 다섯개의 원칙이란?**\n",
        "\n",
        "1. 단일 책임 원칙 (Single Responsibility Principle)\n",
        "2. 개방 폐쇄 원칙 (Open-Closed Principle)\n",
        "3. 리스코프 치환 원칙 (Liskov Substitution Principle)\n",
        "4. 인터페이스 분리 원칙 (Interface Segregation Principle)\n",
        "5. 의존 관계 역전 원칙 (Dependency Inversion Principle)\n",
        "\n",
        "\n"
      ],
      "metadata": {
        "id": "bNmMMaAWByl6"
      }
    },
    {
      "cell_type": "markdown",
      "source": [
        "# **1. 단일 책임 원칙**"
      ],
      "metadata": {
        "id": "Oqbc9IPkCnF7"
      }
    },
    {
      "cell_type": "markdown",
      "source": [
        ": 모든 클래스는 단 한가지의 책임만을 갖고, 클래스 안에 정의되어 있는 모든 기능은, 이 하나의 책임을 수행하는데 집중되어 있어야 한다.\n",
        "\n",
        "\n",
        "\n",
        "> **즉, 하나의 클래스로 너무 많은 일을 하지 말고, 딱 한가지 책임만 수행하라는 뜻**\n",
        "\n",
        "이가 잘 적용된다면 쉽게 유지보수 가능\n",
        "\n",
        "\n",
        "\n"
      ],
      "metadata": {
        "id": "d2Bt_qGjEW4_"
      }
    },
    {
      "cell_type": "markdown",
      "source": [
        "단일책임에는 명확한 답이 없다!!!\n",
        "그러나 코드를 만들때 단일책임을 신경써야 유지 보수가 용이하다!!!!"
      ],
      "metadata": {
        "id": "P0-tIgu7JY7i"
      }
    },
    {
      "cell_type": "markdown",
      "source": [
        "## **실습과제**\n",
        "\n"
      ],
      "metadata": {
        "id": "Hl12fFXyJi0y"
      }
    },
    {
      "cell_type": "markdown",
      "source": [
        "다음 Student클래스에는 \n",
        "*   학생 기본 정보 수정\n",
        "*   학점 추가\n",
        "*   평균 학점 계산\n",
        "*   성적표 출력\n",
        "\n",
        "기능 들이 있다.\n",
        "\n",
        "이를 단일 책임 원칙에 따라 분할해 보았다.\n"
      ],
      "metadata": {
        "id": "8plU8DsxcZOb"
      }
    },
    {
      "cell_type": "code",
      "source": [
        "class Student:\n",
        "    def __init__(self, name, id, major):\n",
        "        self.name = name\n",
        "        self.id = id\n",
        "        self.major = major\n",
        "        self.grades = []\n",
        "\n",
        "    def change_student_info(self, new_name, new_id, new_major):\n",
        "        \"\"\"학생 기본 정보 수정 메소드\"\"\"\n",
        "        self.name = new_name\n",
        "        self.id = new_id\n",
        "        self.major = new_major\n",
        "\n",
        "    def add_grade(self, grade):\n",
        "        \"\"\"학점 추가 메소드\"\"\"\n",
        "        if 0 <= grade <= 4.3:\n",
        "            self.grades.append(grade)\n",
        "        else:\n",
        "            print(\"수업 학점은 0과 4.3 사이여야 합니다!\")\n",
        "\n",
        "    def get_average_gpa(self):\n",
        "        \"\"\"평균 학점 계산 메소드\"\"\"\n",
        "        return sum(self.grades) / len(self.grades)\n",
        "\n",
        "    def print_report_card(self):\n",
        "        \"\"\"학생 성적표 출력 메소드\"\"\"\n",
        "        print(\"코드잇 대학 성적표\\n\\n학생 이름:{}\\n학생 번호:{}\\n소속 학과:{}\\n평균 학점:{}\"\\\n",
        "        .format(self.name, self.id, self.major, self.get_average_gpa()))\n",
        "        \n"
      ],
      "metadata": {
        "id": "ilfz15omchRK"
      },
      "execution_count": 2,
      "outputs": []
    },
    {
      "cell_type": "markdown",
      "source": [
        "이 하나의 클래스를 크게 \n",
        "*   기본정보 입출력 클래스\n",
        "*   학점 관리 클래스\n",
        "\n",
        "로 Student 클래스에서는 학생 기본 정보에 관한 책임\n",
        ", Grade 클래스에서는 학점에 관한 책임을 지도록 하였다."
      ],
      "metadata": {
        "id": "aS2qH4Oqc4T4"
      }
    },
    {
      "cell_type": "code",
      "source": [
        "class Student:\n",
        "    \"\"\"학생 기본정보 입출력 매소드\"\"\"\n",
        "    def __init__(self, name, id, major):\n",
        "        \"\"\"학생 기본 정보 입력 메소드\"\"\"\n",
        "        self.name = name\n",
        "        self.id = id\n",
        "        self.major = major\n",
        "        self.grades = Grade(name)\n",
        "        \n",
        "    def change_student_info(self, new_name, new_id, new_major):\n",
        "        \"\"\"학생 기본 정보 수정 메소드\"\"\"\n",
        "        self.name = new_name\n",
        "        self.id = new_id\n",
        "        self.major = new_major\n",
        "        \n",
        "    def print_report_card(self):\n",
        "        \"\"\"학생 성적표 출력 메소드\"\"\"\n",
        "        print(\"코드잇 대학 성적표\\n\\n학생 이름:{}\\n학생 번호:{}\\n소속 학과:{}\\n평균 학점:{}\"\\\n",
        "        .format(self.name, self.id, self.major, self.grades.get_average_gpa()))\n",
        "\n",
        "class Grade:\n",
        "    def __init__(self, name):\n",
        "        self.grade = []\n",
        "        \n",
        "    def add_grade(self, grade):\n",
        "        \"\"\"학점 추가 메소드\"\"\"\n",
        "        if 0 <= grade <= 4.3:\n",
        "            self.grade.append(grade)\n",
        "        else:\n",
        "            print(\"수업 학점은 0과 4.3 사이여야 합니다!\")\n",
        "\n",
        "    def get_average_gpa(self):\n",
        "        \"\"\"평균 학점 계산 메소드\"\"\"\n",
        "        return sum(self.grade) / len(self.grade)\n",
        "\n",
        "        \n",
        "\n",
        "# 코드실행\n",
        "younghoon = Student(\"강영훈\", 20120034, \"통계학과\")\n",
        "younghoon.change_student_info(\"강영훈\", 20130024, \"컴퓨터 공학과\")\n",
        "\n",
        "younghoon.grades.add_grade(3.0)\n",
        "younghoon.grades.add_grade(3.33)\n",
        "younghoon.grades.add_grade(3.67)\n",
        "younghoon.grades.add_grade(4.3)\n",
        "\n",
        "younghoon.print_report_card()\n",
        "            "
      ],
      "metadata": {
        "colab": {
          "base_uri": "https://localhost:8080/"
        },
        "id": "cC3i__wdcYLx",
        "outputId": "d583dd0f-0fe8-4622-da00-9f0332307a53"
      },
      "execution_count": 1,
      "outputs": [
        {
          "output_type": "stream",
          "name": "stdout",
          "text": [
            "코드잇 대학 성적표\n",
            "\n",
            "학생 이름:강영훈\n",
            "학생 번호:20130024\n",
            "소속 학과:컴퓨터 공학과\n",
            "평균 학점:3.575\n"
          ]
        }
      ]
    }
  ]
}