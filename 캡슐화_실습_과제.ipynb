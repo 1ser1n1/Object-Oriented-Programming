{
  "nbformat": 4,
  "nbformat_minor": 0,
  "metadata": {
    "colab": {
      "name": "캡슐화 실습 과제",
      "provenance": [],
      "authorship_tag": "ABX9TyNUnXkhJ0OtZFzCQ6zTUEbr",
      "include_colab_link": true
    },
    "kernelspec": {
      "name": "python3",
      "display_name": "Python 3"
    },
    "language_info": {
      "name": "python"
    }
  },
  "cells": [
    {
      "cell_type": "markdown",
      "metadata": {
        "id": "view-in-github",
        "colab_type": "text"
      },
      "source": [
        "<a href=\"https://colab.research.google.com/github/1ser1n1/studyPython/blob/main/%EC%BA%A1%EC%8A%90%ED%99%94_%EC%8B%A4%EC%8A%B5_%EA%B3%BC%EC%A0%9C.ipynb\" target=\"_parent\"><img src=\"https://colab.research.google.com/assets/colab-badge.svg\" alt=\"Open In Colab\"/></a>"
      ]
    },
    {
      "cell_type": "markdown",
      "source": [
        "# **신용카드 정보 보호하기 1**\n"
      ],
      "metadata": {
        "id": "GHMAX8h2-BhC"
      }
    },
    {
      "cell_type": "code",
      "source": [
        "class CreditCard:\n",
        "    MAX_PAYMENT_LIMIT = 30000000\n",
        "\n",
        "    def __init__(self, name, password, payment_limit):\n",
        "        self.__name = name\n",
        "        self.__password = password\n",
        "        self.__payment_limit = payment_limit\n",
        "\n",
        "    def get_name(self):\n",
        "        return self.__name\n",
        "        \n",
        "    def set_name(self,name):\n",
        "        self.__name = name\n",
        "    \n",
        "    def get_password(self):\n",
        "        return \"비밀 번호는 볼 수 없습니다\"\n",
        "    \n",
        "    def set_password(self, password):\n",
        "        self.__password = password\n",
        "        \n",
        "    def get_payment_limit(self):\n",
        "        return self.__payment_limit\n",
        "        \n",
        "    def set_payment_limit(self, payment_limit):\n",
        "        if 0 <= payment_limit <= CreditCard.MAX_PAYMENT_LIMIT:\n",
        "            self.__payment_limit = payment_limit\n",
        "        else:\n",
        "            return print(\"카드 한도는 0원 ~ 3천만 원 사이로 설정해주세요!\")\n",
        "\n",
        "card = CreditCard(\"강영훈\", \"123\", 100000)\n",
        "\n",
        "print(card.get_name())\n",
        "print(card.get_password())\n",
        "print(card.get_payment_limit())\n",
        "\n",
        "card.set_name(\"성태호\")\n",
        "card.set_password(\"1234\")\n",
        "card.set_payment_limit(-10)\n",
        "\n",
        "print(card.get_name())\n",
        "print(card.get_password())\n",
        "print(card.get_payment_limit())"
      ],
      "metadata": {
        "colab": {
          "base_uri": "https://localhost:8080/"
        },
        "id": "U7ZNoCuF-UrH",
        "outputId": "d5dafac5-1169-4e70-c811-a9d5145e0965"
      },
      "execution_count": null,
      "outputs": [
        {
          "output_type": "stream",
          "name": "stdout",
          "text": [
            "강영훈\n",
            "비밀 번호는 볼 수 없습니다\n",
            "100000\n",
            "카드 한도는 0원 ~ 3천만 원 사이로 설정해주세요!\n",
            "성태호\n",
            "비밀 번호는 볼 수 없습니다\n",
            "100000\n"
          ]
        }
      ]
    },
    {
      "cell_type": "markdown",
      "source": [
        "# **신용카드 정보 보호하기 2**\n",
        "\n",
        "데코레이터를 이용한 캡슐화 과제\n",
        "\n",
        "\n"
      ],
      "metadata": {
        "id": "YN9GNfNg-YUD"
      }
    },
    {
      "cell_type": "code",
      "source": [
        "class CreditCard:\n",
        "    MAX_PAYMENT_LIMIT = 30000000\n",
        "\n",
        "    def __init__(self, name, password, payment_limit):\n",
        "        self.name = name\n",
        "        self._password = password\n",
        "        self._payment_limit = payment_limit\n",
        "    \n",
        "    @property\n",
        "    def password(self):\n",
        "        return \"비밀 번호는 볼 수 없습니다\"\n",
        "        \n",
        "    @password.setter\n",
        "    def password(self,password):\n",
        "        self._password = password\n",
        "        \n",
        "    @property\n",
        "    def payment_limit(self):\n",
        "        return self._payment_limit\n",
        "    \n",
        "    @payment_limit.setter\n",
        "    def payment_limit(self,payment_limit):\n",
        "        if 0 <= payment_limit <= CreditCard.MAX_PAYMENT_LIMIT:\n",
        "            self._payment_limit = payment_limit\n",
        "        else:\n",
        "            return print(\"카드 한도는 0원 ~ 3천만 원 사이로 설정해주세요!\")\n",
        "\n",
        "card = CreditCard(\"강영훈\", \"123\", 100000)\n",
        "\n",
        "print(card.name)\n",
        "print(card.password)\n",
        "print(card.payment_limit)\n",
        "\n",
        "card.name = \"성태호\"\n",
        "card.password = \"1234\"\n",
        "card.payment_limit = -10\n",
        "\n",
        "print(card.name)\n",
        "print(card.password)\n",
        "print(card.payment_limit)"
      ],
      "metadata": {
        "colab": {
          "base_uri": "https://localhost:8080/"
        },
        "id": "QbHyg_t7JVf-",
        "outputId": "320f09fd-9278-455a-d9ba-a3bcc426c2a2"
      },
      "execution_count": 2,
      "outputs": [
        {
          "output_type": "stream",
          "name": "stdout",
          "text": [
            "강영훈\n",
            "비밀 번호는 볼 수 없습니다\n",
            "100000\n",
            "카드 한도는 0원 ~ 3천만 원 사이로 설정해주세요!\n",
            "성태호\n",
            "비밀 번호는 볼 수 없습니다\n",
            "100000\n"
          ]
        }
      ]
    }
  ]
}