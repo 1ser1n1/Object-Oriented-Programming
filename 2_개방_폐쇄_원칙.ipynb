{
  "nbformat": 4,
  "nbformat_minor": 0,
  "metadata": {
    "colab": {
      "name": "2. 개방 폐쇄 원칙",
      "provenance": [],
      "authorship_tag": "ABX9TyNwvzww5VfMqS1UHtkFf/zd",
      "include_colab_link": true
    },
    "kernelspec": {
      "name": "python3",
      "display_name": "Python 3"
    },
    "language_info": {
      "name": "python"
    }
  },
  "cells": [
    {
      "cell_type": "markdown",
      "metadata": {
        "id": "view-in-github",
        "colab_type": "text"
      },
      "source": [
        "<a href=\"https://colab.research.google.com/github/1ser1n1/Object-Oriented-Programming/blob/main/2_%EA%B0%9C%EB%B0%A9_%ED%8F%90%EC%87%84_%EC%9B%90%EC%B9%99.ipynb\" target=\"_parent\"><img src=\"https://colab.research.google.com/assets/colab-badge.svg\" alt=\"Open In Colab\"/></a>"
      ]
    },
    {
      "cell_type": "markdown",
      "source": [
        "# **2. 개방 폐쇄 원칙(Open/closed principle)**\n"
      ],
      "metadata": {
        "id": "hRupJGvukZWR"
      }
    },
    {
      "cell_type": "markdown",
      "source": [
        "\n",
        "\n",
        "> **클래스는 확장에 열려 있어야하며, 수정에는 닫혀 있어야 한다.**\n",
        "\n",
        "확장에 열려 있다는 것은 프로그램의 기존 기능을 확장할 수 있다는 것이고, 수정에 닫혀 있다는 것은 한 번 작성한 코드를 바꾸지 않아도 된다는 것이다.\n",
        "\n",
        "=> *어떤 클래스의 코드를 수정하지 않아도 기존 기능을 확장할 수 있어야 된다.*\n",
        "\n",
        "개방폐쇄 원칙을 지키는 이유: 더 쉽게 협력하고 더 편하게 수정하기 위해서!!\n",
        "\n"
      ],
      "metadata": {
        "id": "jKo44CJ1kn6H"
      }
    },
    {
      "cell_type": "code",
      "source": [
        "class MessageNotificationManager:\n",
        "    \"\"\"메시지 알림 관리 클래스\"\"\"\n",
        "    def __init__(self):\n",
        "        self.message_notifications = []\n",
        "\n",
        "    def add_new_message(self, new_message):\n",
        "        \"\"\"새로 온 메시지 추가\"\"\"\n",
        "        self.message_notifications.append(new_message)\n",
        "\n",
        "    def display_message_notifications(self):\n",
        "        \"\"\"모든 새 메시지 확인\"\"\"\n",
        "        print(\"새로 온 메시지들:\")\n",
        "\n",
        "        for message in self.message_notifications:\n",
        "            print(message.short_message() + \"\\n\")\n",
        "\n",
        "\n",
        "class KakaoTalkMessage:\n",
        "    \"\"\"카카오톡 메시지 클래스\"\"\"\n",
        "    notification_message_max_len = 10\n",
        "\n",
        "    def __init__(self, sent_by, time, content):\n",
        "        self.sent_by = sent_by\n",
        "        self.time = time\n",
        "        self.content = content\n",
        "\n",
        "    def short_message(self):\n",
        "        \"\"\"메시지의 정보와 내용을 리턴함\"\"\"\n",
        "        message_str = \"{}\\n{}\\n\".format(self.time, self.sent_by)\n",
        "        message_str += self.content if len(self.content) <= KakaoTalkMessage.notification_message_max_len else self.content[:KakaoTalkMessage.notification_message_max_len] + \"...\"\n",
        "\n",
        "        return message_str\n",
        "\n",
        "\n",
        "class FacebookMessage:\n",
        "    \"\"\"페이스북 메시지 클래스\"\"\"\n",
        "    notification_message_max_len = 15\n",
        "\n",
        "    def __init__(self, sent_by, location, time, content):\n",
        "        self.sent_by = sent_by\n",
        "        self.location = location\n",
        "        self.time = time\n",
        "        self.content = content\n",
        "\n",
        "    def notification_display_info(self):\n",
        "        \"\"\"메시지를 짧은 형태로 리턴함\"\"\"\n",
        "        res_str = \"{}\\n{}\\n{}\\n\".format(self.time, self.sent_by, self.location)\n",
        "        res_str += self.content if len(self.content) <= FacebookMessage.notification_message_max_len else self.content[:FacebookMessage.notification_message_max_len] + \"...\"\n",
        "\n",
        "        return res_str   \n",
        "        \n",
        "\n",
        "class TextMessage:\n",
        "    \"\"\"문자 메시지 클래스\"\"\"\n",
        "    notification_message_max_len = 12\n",
        "\n",
        "    def __init__(self, sent_by, time, content):\n",
        "        self.sent_by = sent_by\n",
        "        self.time = time\n",
        "        self.content = content\n",
        "\n",
        "    def notification_string(self):\n",
        "        \"\"\"메시지의 정보와 내용을 리턴함\"\"\"\n",
        "        noti_string = \"{}, {}\\n\".format(self.sent_by, self.time)\n",
        "        noti_string += self.content if len(self.content) <= TextMessage.notification_message_max_len else self.content[:TextMessage.notification_message_max_len] + \"...\"\n",
        "        return noti_string \n",
        "\n",
        "\n",
        "\n",
        "# 메시지 알림 관리 인스턴스 생성\n",
        "message_notification_manager = MessageNotificationManager()\n",
        "\n",
        "# 서로 다른 종류의 메시지 3개 생성\n",
        "kakao_talk_message = KakaoTalkMessage(\"고대위\", \"2019년 7월 1일 오후 11시 30분\", \"나 오늘 놀러 못갈 거 같아, 미안!\")\n",
        "facebook_message = FacebookMessage(\"고대위\", \"서울시 성북구\", \"2019년 7월 1일 오후 11시 35분\", \"아니다, 갈게! 너네 어디서 놀고 있어?\")\n",
        "text_message = TextMessage(\"이영훈\", \"2019년 7월 2일 오전 12시 30분\", \"나도 놀러 갈게, 나 지금 출발\")\n",
        "\n",
        "# 메시지 알림 관리 인스턴스에 3개의 메시지를 추가\n",
        "message_notification_manager.add_new_message(kakao_talk_message)\n",
        "message_notification_manager.add_new_message(facebook_message)\n",
        "message_notification_manager.add_new_message(text_message)\n",
        "\n",
        "# 메시지 알림 관리 인스턴스에 있는 모든 메시지 출력\n",
        "message_notification_manager.display_message_notifications()            \n"
      ],
      "metadata": {
        "colab": {
          "base_uri": "https://localhost:8080/",
          "height": 422
        },
        "id": "OFyRAy1yqIQI",
        "outputId": "dee9745e-510f-4038-be05-9089c9663019"
      },
      "execution_count": 1,
      "outputs": [
        {
          "output_type": "stream",
          "name": "stdout",
          "text": [
            "새로 온 메시지들:\n",
            "2019년 7월 1일 오후 11시 30분\n",
            "고대위\n",
            "나 오늘 놀러 못갈...\n",
            "\n"
          ]
        },
        {
          "output_type": "error",
          "ename": "AttributeError",
          "evalue": "ignored",
          "traceback": [
            "\u001b[0;31m---------------------------------------------------------------------------\u001b[0m",
            "\u001b[0;31mAttributeError\u001b[0m                            Traceback (most recent call last)",
            "\u001b[0;32m<ipython-input-1-a52b314c478b>\u001b[0m in \u001b[0;36m<module>\u001b[0;34m()\u001b[0m\n\u001b[1;32m     82\u001b[0m \u001b[0;34m\u001b[0m\u001b[0m\n\u001b[1;32m     83\u001b[0m \u001b[0;31m# 메시지 알림 관리 인스턴스에 있는 모든 메시지 출력\u001b[0m\u001b[0;34m\u001b[0m\u001b[0;34m\u001b[0m\u001b[0;34m\u001b[0m\u001b[0m\n\u001b[0;32m---> 84\u001b[0;31m \u001b[0mmessage_notification_manager\u001b[0m\u001b[0;34m.\u001b[0m\u001b[0mdisplay_message_notifications\u001b[0m\u001b[0;34m(\u001b[0m\u001b[0;34m)\u001b[0m\u001b[0;34m\u001b[0m\u001b[0;34m\u001b[0m\u001b[0m\n\u001b[0m",
            "\u001b[0;32m<ipython-input-1-a52b314c478b>\u001b[0m in \u001b[0;36mdisplay_message_notifications\u001b[0;34m(self)\u001b[0m\n\u001b[1;32m     13\u001b[0m \u001b[0;34m\u001b[0m\u001b[0m\n\u001b[1;32m     14\u001b[0m         \u001b[0;32mfor\u001b[0m \u001b[0mmessage\u001b[0m \u001b[0;32min\u001b[0m \u001b[0mself\u001b[0m\u001b[0;34m.\u001b[0m\u001b[0mmessage_notifications\u001b[0m\u001b[0;34m:\u001b[0m\u001b[0;34m\u001b[0m\u001b[0;34m\u001b[0m\u001b[0m\n\u001b[0;32m---> 15\u001b[0;31m             \u001b[0mprint\u001b[0m\u001b[0;34m(\u001b[0m\u001b[0mmessage\u001b[0m\u001b[0;34m.\u001b[0m\u001b[0mshort_message\u001b[0m\u001b[0;34m(\u001b[0m\u001b[0;34m)\u001b[0m \u001b[0;34m+\u001b[0m \u001b[0;34m\"\\n\"\u001b[0m\u001b[0;34m)\u001b[0m\u001b[0;34m\u001b[0m\u001b[0;34m\u001b[0m\u001b[0m\n\u001b[0m\u001b[1;32m     16\u001b[0m \u001b[0;34m\u001b[0m\u001b[0m\n\u001b[1;32m     17\u001b[0m \u001b[0;34m\u001b[0m\u001b[0m\n",
            "\u001b[0;31mAttributeError\u001b[0m: 'FacebookMessage' object has no attribute 'short_message'"
          ]
        }
      ]
    },
    {
      "cell_type": "markdown",
      "source": [
        "위의 MessageNotificationManager 클래스는 KakaoTalkMessage 클래스를 사용하는 것만 생각하고 작성했던 클래스이다. \n",
        "그래서 만약 새로 만든 MessageNotificationManager 클래스의 display_message_notifications 메소드를 호출할 때 아래 코드 부분의\n",
        "\n",
        "```\n",
        "# for message in self.message_notifications:\n",
        "            print(message.short_message() + \"\\n\")\n",
        "```\n",
        "short_message 메소드 부분에서 에러가 날 것이다. 왜냐면 FacebookMessage 클래스와 TextMessage 클래스에는 short_message라는 메소드가 없으니까이다.\n",
        "\n",
        "그래서 개방 폐쇄 원칙에 어긋나지 않게 MessageNotificationManager 클래스의 코드를 더 이상 수정하지 않아도 확장이 용이할 수 있는 상태로 만들어 보자!!\n"
      ],
      "metadata": {
        "id": "kw-D855uqVGW"
      }
    },
    {
      "cell_type": "markdown",
      "source": [
        "## **수정본**"
      ],
      "metadata": {
        "id": "gyExVPpVtwSN"
      }
    },
    {
      "cell_type": "markdown",
      "source": [
        "\n",
        "\n",
        "---\n",
        "**알림 가능한 메시지(NotifiableMessage) 추상 클래스**\n",
        "\n",
        "\n",
        "```\n",
        "# from abc import ABC, abstractmethod\n",
        "\n",
        "class NotifiableMessage(ABC):\n",
        "    \"\"\"알림 가능한 메시지를 나타내는 추상 클래스\"\"\"\n",
        "    @abstractmethod\n",
        "    def get_notification_message(self) -> str:\n",
        "        \"\"\"알림 내용에 들어갈 문자열을 리턴하는 메소드\"\"\"\n",
        "        pass\n",
        "```\n",
        "이제 모든 종류의 메시지 클래스들이 이 NotifiableMessage 추상 클래스를 상속받게 하면 된다.\n",
        "\n",
        "\n",
        "**카카오톡(KakaoTalkMessage) 클래스**\n",
        "\n",
        "\n",
        "```\n",
        "class KakaoTalkMessage(NotifiableMessage):\n",
        "    \"\"\"카카오톡 메시지 클래스\"\"\"\n",
        "    notification_message_max_len = 10\n",
        "\n",
        "    def __init__(self, sent_by, time, content):\n",
        "        self.sent_by = sent_by\n",
        "        self.time = time\n",
        "        self.content = content\n",
        "\n",
        "    def get_notification_message(self):\n",
        "        \"\"\"메시지의 정보와 내용을 리턴함\"\"\"\n",
        "        message_str = \"{}\\n{}\\n\".format(self.time, self.sent_by)\n",
        "        message_str += self.content if len(self.content) <= KakaoTalkMessage.notification_message_max_len else self.content[:KakaoTalkMessage.notification_message_max_len] + \"...\"\n",
        "\n",
        "        return message_str\n",
        "```\n",
        "\n",
        "**페이스북 메시지(FacebookMessage) 클래스**\n",
        "\n",
        "\n",
        "\n",
        "```\n",
        "class FacebookMessage(NotifiableMessage):\n",
        "    \"\"\"페이스북 메시지 클래스\"\"\"\n",
        "    notification_message_max_len = 15\n",
        "\n",
        "    def __init__(self, sent_by, location, time, content):\n",
        "        self.sent_by = sent_by\n",
        "        self.location = location\n",
        "        self.time = time\n",
        "        self.content = content\n",
        "\n",
        "    def get_notification_message(self):\n",
        "        \"\"\"메시지의 정보와 내용을 리턴함\"\"\"\n",
        "        res_str = \"{}\\n{}\\n{}\\n\".format(self.time, self.sent_by, self.location)\n",
        "        res_str += self.content if len(self.content) <= FacebookMessage.notification_message_max_len else self.content[:FacebookMessage.notification_message_max_len] + \"...\"\n",
        "\n",
        "        return res_str\n",
        "\n",
        "```\n",
        "**메시지 알림 매니저(MessageNotificationManager) 클래스**\n",
        "\n",
        "```\n",
        "class MessageNotificationManager:\n",
        "    \"\"\"메시지 알림 관리 클래스\"\"\"\n",
        "    def __init__(self):\n",
        "        self.message_notifications = []\n",
        "\n",
        "    def add_new_message(self, new_message: NotifiableMessage):\n",
        "        \"\"\"새로 온 메시지 추가\"\"\"\n",
        "        self.message_notifications.append(new_message)\n",
        "\n",
        "    def display_message_notifications(self):\n",
        "        \"\"\"모든 새 메시지 확인\"\"\"\n",
        "        print(\"새로 온 메시지들:\")\n",
        "\n",
        "        for message in self.message_notifications:\n",
        "            print(message.get_notification_message() + \"\\n\")\n",
        "\n",
        "```\n",
        "이제 MessageNotificationManager 클래스의 add_new_message 메소드가 NotifiableMessage 클래스의 인스턴스만 파라미터로 받아야한다는 의미를 나타내는 type hinting을 한다. 그리고 display_message_notifications 메소드에서 message 인스턴스의 get_notification_message 메소드를 호출하면 된다.  이렇게 하면 MessageNotificationManager 클래스에 어떤 종류의 메시지 인스턴스가 추가되더라도 그 인스턴스는 get_notification_message 메소드를 갖고 있을테니 새로운 메시지 클래스가 생긴다고 하더라도 MessageNotificationManager 클래스는 그 코드를 수정할 필요가 없다.\n",
        "\n",
        "\n",
        "\n",
        "\n"
      ],
      "metadata": {
        "id": "22BJjmeSsdMI"
      }
    }
  ]
}