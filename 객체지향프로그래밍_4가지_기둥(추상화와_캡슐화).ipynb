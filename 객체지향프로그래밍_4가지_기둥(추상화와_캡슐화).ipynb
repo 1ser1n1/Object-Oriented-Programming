{
  "nbformat": 4,
  "nbformat_minor": 0,
  "metadata": {
    "colab": {
      "name": "객체지향프로그래밍 4가지 기둥(추상화와 캡슐화)",
      "provenance": [],
      "authorship_tag": "ABX9TyPxx0Jffd3nb/J8/PD+dy5c",
      "include_colab_link": true
    },
    "kernelspec": {
      "name": "python3",
      "display_name": "Python 3"
    },
    "language_info": {
      "name": "python"
    }
  },
  "cells": [
    {
      "cell_type": "markdown",
      "metadata": {
        "id": "view-in-github",
        "colab_type": "text"
      },
      "source": [
        "<a href=\"https://colab.research.google.com/github/1ser1n1/studyPython/blob/main/%EA%B0%9D%EC%B2%B4%EC%A7%80%ED%96%A5%ED%94%84%EB%A1%9C%EA%B7%B8%EB%9E%98%EB%B0%8D_4%EA%B0%80%EC%A7%80_%EA%B8%B0%EB%91%A5(%EC%B6%94%EC%83%81%ED%99%94%EC%99%80_%EC%BA%A1%EC%8A%90%ED%99%94).ipynb\" target=\"_parent\"><img src=\"https://colab.research.google.com/assets/colab-badge.svg\" alt=\"Open In Colab\"/></a>"
      ]
    },
    {
      "cell_type": "markdown",
      "source": [
        "# **추상화**"
      ],
      "metadata": {
        "id": "j_uAFllJXZ-r"
      }
    },
    {
      "cell_type": "markdown",
      "source": [
        "### 프로그래머들이 특정 코드를 사용할때 **필수적인 정보**를 제외한 세부사항을 가리는 것\n",
        "\n",
        "*   코드를 사용할 때 최소한의 정보만 알아도 사용할 수 있도록 도와줌\n",
        "*   함수 및 변수사용 -> 추상화\n",
        "*   동료개발자들이 나의 클래스 사용 가능, 내가 다른 개발자 클래스 잘 사용 가능\n",
        "\n",
        "\n",
        "\n"
      ],
      "metadata": {
        "id": "-O2V0ESrXjNZ"
      }
    },
    {
      "cell_type": "markdown",
      "source": [
        "**추상화 잘하기**\n",
        "1. 이름을 잘 지어야 한다.\n",
        "\n",
        "ex. 변수 메소드 이름만 잘 지어도 어디에 쓰는 클래스이며 어떻게 사용할 지 직관적으로 알 수 있다.\n",
        "\n",
        "2. 문서화 하기\n"
      ],
      "metadata": {
        "id": "iPsbRG_0YG8f"
      }
    },
    {
      "cell_type": "code",
      "source": [
        "class User:\n",
        "    \"\"\" SNS의 유저를 나타내는 클래스\"\"\"\n",
        "    count = 0\n",
        "\n",
        "    def __init__(self, name, email, pw):\n",
        "        \"\"\"이름, 이메일, 비밀번호를 인스턴스 변수로 갖고, 인스턴스가 생성될 때마다 클래스 변수 count를 1씩 증가시킨다\"\"\"\n",
        "        self.name = name\n",
        "        self.email = email\n",
        "        self.pw = pw\n",
        "\n",
        "        User.count += 1\n",
        "\n",
        "    def say_hello(self):\n",
        "        \"\"\"유저의 이름을 포함한 인사 메시지를 출력한다\"\"\"\n",
        "        print(\"안녕하세요! 저는 {}입니다!\".format(self.name))\n",
        "\n",
        "    def __str__(self):\n",
        "        \"\"\" 유저 정보를 정의된 문자열 형태로 리턴한다\"\"\"\n",
        "        return \"사용자: {}, 이메일: {}, 비밀번호: ******\".format(self.name, self.email)\n",
        "\n",
        "    @classmethod\n",
        "    def number_of_users(cls):\n",
        "        \"\"\" 총 유저 수를 출력하는 클래스 메소드\"\"\"\n",
        "        print(\"총 유저 수는: {}입니다\".format(cls.count))\n",
        "\n",
        "help(User)"
      ],
      "metadata": {
        "colab": {
          "base_uri": "https://localhost:8080/"
        },
        "id": "3yGcHUFKZ4XF",
        "outputId": "543463e2-d591-4801-e16c-12445d842555"
      },
      "execution_count": null,
      "outputs": [
        {
          "output_type": "stream",
          "name": "stdout",
          "text": [
            "Help on class User in module __main__:\n",
            "\n",
            "class User(builtins.object)\n",
            " |  User(name, email, pw)\n",
            " |  \n",
            " |  SNS의 유저를 나타내는 클래스\n",
            " |  \n",
            " |  Methods defined here:\n",
            " |  \n",
            " |  __init__(self, name, email, pw)\n",
            " |      이름, 이메일, 비밀번호를 인스턴스 변수로 갖고, 인스턴스가 생성될 때마다 클래스 변수 count를 1씩 증가시킨다\n",
            " |  \n",
            " |  __str__(self)\n",
            " |      유저 정보를 정의된 문자열 형태로 리턴한다\n",
            " |  \n",
            " |  say_hello(self)\n",
            " |      유저의 이름을 포함한 인사 메시지를 출력한다\n",
            " |  \n",
            " |  ----------------------------------------------------------------------\n",
            " |  Class methods defined here:\n",
            " |  \n",
            " |  number_of_users() from builtins.type\n",
            " |      총 유저 수를 출력하는 클래스 메소드\n",
            " |  \n",
            " |  ----------------------------------------------------------------------\n",
            " |  Data descriptors defined here:\n",
            " |  \n",
            " |  __dict__\n",
            " |      dictionary for instance variables (if defined)\n",
            " |  \n",
            " |  __weakref__\n",
            " |      list of weak references to the object (if defined)\n",
            " |  \n",
            " |  ----------------------------------------------------------------------\n",
            " |  Data and other attributes defined here:\n",
            " |  \n",
            " |  count = 0\n",
            "\n"
          ]
        }
      ]
    },
    {
      "cell_type": "markdown",
      "source": [
        "# **캡슐화**"
      ],
      "metadata": {
        "id": "-ZPQYHO5abOx"
      }
    },
    {
      "cell_type": "markdown",
      "source": [
        "## 정의\n",
        "1. 객체의 일부 구현 내용에 대한 외부로부터의 **직접적인 액세스**를 차단하는 것\n",
        "2. 객체의 **속성**과 그것을 사용하는 **행동**을 **하나로** 묶는 것"
      ],
      "metadata": {
        "id": "-CMCpjRxad6R"
      }
    },
    {
      "cell_type": "markdown",
      "source": [
        "### **1. 객체를 외부로 부터 직접적인 액세스 차단 방법**\n",
        "\n",
        ":메소드나 변수 이름 앞에 '__'를 붙이면 클래스 밖에서 접근이 불가능해진다.\n",
        "\n",
        "\n",
        "\n",
        "```\n",
        "# >  그런데 비슷한 모양의 __init__ 메소드와 __str__ 메소드는 잘 사용할 수 있다.\n",
        "__str__메소드와 __method의 차이는?\n",
        "\n",
        "1. __str__ 메소드는 이름 앞 뒤에 모두 밑줄 2개(__)가 있기 때문에 일반 메소드와 동일하게 사용할 수 있고,\n",
        "2. 인스턴스 변수 __method는 앞에만 밑줄 2개(__)가 있어서 외부에서 접근할 수 없다. __method__로 바꿔주면 일반 변수처럼 사용할 수 있다.\n",
        "```\n",
        "\n",
        "\n",
        "\n"
      ],
      "metadata": {
        "id": "yzA14FljbLB1"
      }
    },
    {
      "cell_type": "markdown",
      "source": [
        "### **2. 객체의 메소드를 통해 변수 접근하기**\n",
        "\n",
        "변수의 값을 읽는 메소드( getter 메소드)와 변수의 값을 설정하는 메소드(setter 메소드) 생성\n",
        "\n"
      ],
      "metadata": {
        "id": "aNSxz4-6wNe1"
      }
    },
    {
      "cell_type": "markdown",
      "source": [
        ">**캡슐화 정리**\n",
        ">*   클래스 밖에서 접근 못하게할 변수 및 메소드 설정\n",
        "*   변수나 메소드 이름 앞에 언더바 2개 붙이기\n",
        "*   변수에 간접 접근할 수 있게 메소드 추가하기\n",
        "\n"
      ],
      "metadata": {
        "id": "KDcbSsMTw4jv"
      }
    },
    {
      "cell_type": "markdown",
      "source": [
        "*네임 맹글링*:\n",
        "\n",
        "클래스 안에서 이름 앞에 밑줄 2개를 붙인 변수나 메소드는 네임 맹글링이 되어 아예 새로운 이름을 가지게 된다. 그리고 새 이름으로는 클래스 밖에서 접근이 가능하다.\n",
        "\n",
        "즉!! 캡슐화가 안된 것\n",
        "\n",
        "사실 파이썬은 언어 차원에서 캡슐화를 지원하지 않음!! \n"
      ],
      "metadata": {
        "id": "dJvVEsYYyWAb"
      }
    },
    {
      "cell_type": "markdown",
      "source": [
        "### **3. 파이썬의 캡슐화**\n",
        "\n",
        ">_(언더바) : 이 변수/메소드는 클래스 외부에서 직접 접근해서 사용하지 마세요!\n",
        "> 라는 일종의 약속!!!\n",
        "\n",
        "**데코레이터를 이용한 캡슐화**\n",
        "\n",
        "@property -> getter메소드로 만듬\n",
        "\n",
        "@변수명.setter -> setter메소드로 만듬\n",
        "\n",
        "# *변수 직접사용 최소화 할수록 코드 유지 보수 가능!!!!*\n"
      ],
      "metadata": {
        "id": "b6BUSeZ8zIRG"
      }
    },
    {
      "cell_type": "code",
      "source": [
        "#사용예시\n",
        "class A:\n",
        "  def __init__(self, a, b, c):\n",
        "    self._a = a\n",
        "    #중략\n",
        "\n",
        "  @property #getter메소드\n",
        "  def a(self):\n",
        "    return self._a\n",
        "\n",
        "  @a.setter #setter메소드\n",
        "  def a(self,value):\n",
        "    return self._a = value"
      ],
      "metadata": {
        "id": "vgN5PTqzIagb"
      },
      "execution_count": null,
      "outputs": []
    }
  ]
}