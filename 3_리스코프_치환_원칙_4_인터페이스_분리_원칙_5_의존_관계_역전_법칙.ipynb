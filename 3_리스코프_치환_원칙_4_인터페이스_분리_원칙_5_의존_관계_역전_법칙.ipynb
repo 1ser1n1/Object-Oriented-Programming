{
  "nbformat": 4,
  "nbformat_minor": 0,
  "metadata": {
    "colab": {
      "name": "3. 리스코프 치환 원칙/4. 인터페이스 분리 원칙/5. 의존 관계 역전 법칙",
      "provenance": [],
      "collapsed_sections": [],
      "authorship_tag": "ABX9TyO8NeE8fJ2jaGDpnAgwTyOM",
      "include_colab_link": true
    },
    "kernelspec": {
      "name": "python3",
      "display_name": "Python 3"
    },
    "language_info": {
      "name": "python"
    }
  },
  "cells": [
    {
      "cell_type": "markdown",
      "metadata": {
        "id": "view-in-github",
        "colab_type": "text"
      },
      "source": [
        "<a href=\"https://colab.research.google.com/github/1ser1n1/Object-Oriented-Programming/blob/main/3_%EB%A6%AC%EC%8A%A4%EC%BD%94%ED%94%84_%EC%B9%98%ED%99%98_%EC%9B%90%EC%B9%99_4_%EC%9D%B8%ED%84%B0%ED%8E%98%EC%9D%B4%EC%8A%A4_%EB%B6%84%EB%A6%AC_%EC%9B%90%EC%B9%99_5_%EC%9D%98%EC%A1%B4_%EA%B4%80%EA%B3%84_%EC%97%AD%EC%A0%84_%EB%B2%95%EC%B9%99.ipynb\" target=\"_parent\"><img src=\"https://colab.research.google.com/assets/colab-badge.svg\" alt=\"Open In Colab\"/></a>"
      ]
    },
    {
      "cell_type": "markdown",
      "source": [
        "# **3. 리스코프 치환 원칙(Liskov substitution principle)**\n",
        "\n"
      ],
      "metadata": {
        "id": "tx9nFk5Su-sV"
      }
    },
    {
      "cell_type": "markdown",
      "source": [
        "\n",
        "\n",
        " > **부모 클래스의 인스턴스를 사용하는 위치에 자식 클래스의 인스턴스를 대신 사용했을때 코드가 원래 의도대로 작동해야 한다.**\n",
        "\n",
        "자식 클래스의 인스턴스는 부모클래스의 인스턴스 이기도 하다.  \n",
        "isinstance(자식 클래스의 인스턴스, 부모 클래스) => True 리턴\n",
        "\n",
        "*부모클래스의 행동 규약을 자식 클래스가 위반하면 안된다는 것*\n",
        "\n",
        "\n",
        "\n",
        "> **부모 클래스의 행동규약을 자식클래스가 어긴다는 것은?**\n",
        "\n",
        "\n",
        "부모 클래스의 변수와 메소드를 자식클래스가 상속받기만 한다면 행동 규약을 어길 일이 없다,\n",
        "\n",
        "하지만 자식클래스가 이 상속받은 변수와 메소드를 오버라이딩을 할 때 이 리스코프 치환 원칙을 어길 수 있다,\n",
        "\n",
        "**자식 클래스가 오버라이딩을 잘못 하는 경우**\n",
        "\n",
        "1. 자식 클래스가 부모클래스의 변수 타입을 바꾸거나 메소드의 파라미터 또는 리턴값의 타입 or 갯수를 바꾸는 경우\n",
        "\n",
        "2. 자식 클래스가 부모 클래스의 의도와 다르게 메소드를 오버라이딩 하는 경우\n",
        "\n",
        "\n",
        "\n",
        "\n",
        "\n",
        "---\n",
        "\n",
        "\n"
      ],
      "metadata": {
        "id": "47XAgPBWvPtR"
      }
    },
    {
      "cell_type": "markdown",
      "source": [
        "# **4. 인터페이스 분리 원칙(Interface segregation principle)**"
      ],
      "metadata": {
        "id": "1YDAfDJAGZF-"
      }
    },
    {
      "cell_type": "markdown",
      "source": [
        "인터페이스란? 파이썬에 없는개념임!! 추상 클래스 중에서 추상 메소드만 있고 일반 메소드는 없는 것을 의미한다.\n",
        "\n",
        "\n",
        "\n",
        ">   **클래스가 사용하지 않을 메소드에 의존할 것을 강요하면 안된다.**  \n",
        ">   *클래스가 나중에 사용하지도 않을 메소드를 가지도록 강제하지 말라는 뜻!!*\n",
        "\n",
        "추상 클래스를 상속받으면 자식 클래스는 추상메소드들을 반드시 오버라이딩 해야한다.\n"
      ],
      "metadata": {
        "id": "uREeK2WlGhs4"
      }
    },
    {
      "cell_type": "markdown",
      "source": [
        "인터페이스 분리 원칙을 위반하지 않는 방법  \n",
        ": 뚱뚱한 인터페이스를 작게 나눈다.  \n",
        "\n"
      ],
      "metadata": {
        "id": "xMcMzSteKDi4"
      }
    },
    {
      "cell_type": "markdown",
      "source": [
        "# **5. 의존 관계 역전 법칙(Dependency inversion principle)**\n"
      ],
      "metadata": {
        "id": "A624ET2IMdvk"
      }
    },
    {
      "cell_type": "markdown",
      "source": [
        "> **상위 모듈은 하위 모듈의 구현 내용에 의존하면 안 된다.**  \n",
        "> **상위 모듈과 하위 모듈 모두 추상화된 내용에 의존해야 한다.**\n",
        "\n",
        "하위 모듈에서 수정이 이루어 지더라도 상위 모듈에서 이를 영향 받지 않도록 해야 한다.  \n",
        "\n",
        "여기서 상위모듈이란 다른 클래스를 사용하는 주된 클래스, 하위 모듈은 사용되는 클래스를 나타낸다. 상위모듈은 보통 프로그램의 메인 흐름에 좀더 가깝고 하위 모듈은 상대적으로 좀 더 멀리 있다.  \n",
        "\n",
        "의존 관계 역전 원칙은 상위 모듈이 하위 모듈을 사용할 때 직접 인스턴스를 가져다 쓰지 말라는 뜻이다.  \n",
        "왜냐하면 인스턴스를 바로 가져다 쓴다는 말은 하위 모듈의 구체적인 내용에 상위 모듈이 존재하게 되어 하위 모듈에 변화가 있을 때마다 상위 모듈의 코드를 자주 바꿔주어야 하기 때문이다.  \n",
        "*이에대한 해결책은 추상클래스로 상위 모듈과 하위 모듈 사이 추상 레이어를 만드는 것이다.*  \n",
        "이렇게 된다면\n",
        "\n",
        "- 상위 모듈에는 추상 클래스의 자식 클래스 인스턴스를 사용한다는 가정하에 그 하위 모듈을 사용하는 코드를 작성해두면 되고,\n",
        "- 하위 모듈은 추상 클래스의 추상 메소드들을 구현(오버라이딩)하면 된다.\n",
        "\n",
        "그럼 상위모듈은 새로운 하위 모듈이 생겨도 기존 코드를 수정하지 않고 새 하위모듈을 자유롭게 가져다 쓸 수 있다."
      ],
      "metadata": {
        "id": "dh-umN9gNPTK"
      }
    },
    {
      "cell_type": "markdown",
      "source": [
        "## 5-1. 의존 관계 역전 법칙 예시"
      ],
      "metadata": {
        "id": "pbufXZHTX2Es"
      }
    },
    {
      "cell_type": "code",
      "source": [
        "from abc import ABC, abstractmethod\n",
        "\n",
        "class Document:\n",
        "    def __init__(self, name, content):\n",
        "        self._name = name\n",
        "        self._content = content\n",
        "\n",
        "    @property\n",
        "    def content(self):\n",
        "        \"\"\"문서의 내용을 리턴한다\"\"\"\n",
        "        return self._content\n",
        "\n",
        "    def __str__(self):\n",
        "        \"\"\"문서의 정보를 문자열로 리턴한다\"\"\"\n",
        "        return \"문서 이름: {}\\n문서 내용:\\n{}\".format(self._name, self._content)\n",
        "\n",
        "class Exporter(ABC):\n",
        "    @abstractmethod\n",
        "    def export(self, new_name:str, document: Document):\n",
        "        \"\"\"각 변환 타입에 맞는 형식으로 문서를 변환한 후 리턴한다.\"\"\"\n",
        "        pass\n",
        "\n",
        "class CSVExporter(Exporter):\n",
        "    \"\"\"문서를 csv 형식으로 변환하는 클래스\"\"\"\n",
        "    \n",
        "    def export(self, new_name, document):\n",
        "        \"\"\"문서를 변환한 후 주어진 이름으로 리턴한다\"\"\"\n",
        "        print(\"\\nCSV 파일로 변환 중~\")\n",
        "\n",
        "        new_content = document.content.replace(\"|\", \",\")\n",
        "        exported_document = Document(new_name, new_content)\n",
        "\n",
        "        print(\"변환 완료!\\n\")\n",
        "\n",
        "        return exported_document\n",
        "\n",
        "\n",
        "class HTMLExporter(Exporter):\n",
        "    \"\"\"문서를 HTML 형식으로 변환하는 클래스\"\"\"\n",
        "    def export(self, new_name, document):\n",
        "        \"\"\"문서를 변환한 후 주어진 이름으로 리턴한다\"\"\"\n",
        "        print(\"\\nHTML 문서 변환 중~\")\n",
        "\n",
        "        new_content = \"\"\"\n",
        "<!DOCTYPE html>\n",
        "<html>\n",
        "<head>\n",
        "<title>Title of the document</title>\n",
        "</head>\n",
        "\n",
        "<body>\n",
        "{}\n",
        "</body>\n",
        "\n",
        "</html>\n",
        "        \"\"\".format(document.content)\n",
        "        exported_document = Document(new_name, new_content)\n",
        "\n",
        "        print(\"변환 완료!\\n\")\n",
        "\n",
        "        return exported_document\n",
        "\n",
        "    \n",
        "class ExportController:\n",
        "    \"\"\"문서를 특정 파일 형식으로 변환하는 클래스\"\"\"\n",
        "    def __init__(self):\n",
        "        self.exporter = None\n",
        "\n",
        "    def set_exporter(self, exporter: Exporter):\n",
        "        \"\"\"변환하고 싶은 파일 타입에 맞는 변환기를 설정한다\"\"\"\n",
        "        self.exporter = exporter\n",
        "\n",
        "    def run_export(self, new_name, document):\n",
        "        \"\"\"파일을 변환해서 리턴한다\"\"\"\n",
        "        if self.exporter == None:\n",
        "            print(\"변환기를 정해주세요\")\n",
        "            return document\n",
        "\n",
        "        return self.exporter.export(new_name, document)\n",
        "\n",
        "\n",
        "# 변환기 컨트롤러 인스턴스 정의\n",
        "export_handler = ExportController()\n",
        "\n",
        "# csv 변환기 인스턴스, html 변환기 인스턴스 정의\n",
        "csv_exporter = CSVExporter()\n",
        "html_exporter = HTMLExporter()\n",
        "\n",
        "# 변환할 문서 인스턴스 정의\n",
        "document = Document(\n",
        "        \"직원정보.txt\",\n",
        "        \"\"\"\n",
        "이름|이메일\n",
        "강영훈|younghoon@codeit.kr\n",
        "이윤수|yoonsoo@codeit.kr\n",
        "손동욱|dongwook@codeit.kr\"\"\"\n",
        "        )\n",
        "\n",
        "# 기존 문서 출력\n",
        "print(document)\n",
        "\n",
        "# 변환기를 csv 변환기로 설정\n",
        "export_handler.set_exporter(csv_exporter)\n",
        "\n",
        "# 주어진 문서를 csv 문서로 변환\n",
        "exported_document = export_handler.run_export(\"직원정보.csv\", document)\n",
        "# 변환된 문서 출력\n",
        "print(exported_document)\n",
        "\n",
        "export_handler.set_exporter(html_exporter)\n",
        "exported_document = export_handler.run_export(\"직원정보.html\", document)\n",
        "print(exported_document)\n",
        "\n",
        "print(CSVExporter.mro())\n",
        "print(HTMLExporter.mro())"
      ],
      "metadata": {
        "id": "Ra88mGXxX0uu"
      },
      "execution_count": null,
      "outputs": []
    },
    {
      "cell_type": "markdown",
      "source": [
        "- 문서 클래스(Document)\n",
        "- 변환기 컨트롤러 클래스(ExportController)\n",
        "- CSV 변환기 클래스\n",
        "- HTML 변환기 클래스\n",
        "\n",
        "\n",
        "\n",
        "> 변환키 컨트롤러 클래스는 상위 모듈이며 CSV 변환기와 HTML 변환기 클래스는 하위 모듈임  \n",
        "\n",
        "하위모듈의 추상클래스 ( Exporter)를 만들어 하위 모듈이 될 여러 종류의 변환기 클래스들이 모두 Exporter 추상 클래스를 상속 받아야 하게 함. 이렇게 상위 모듈과 하위 모듈 모두 추상화 레이어에 의존하게 해야 함.\n",
        "\n"
      ],
      "metadata": {
        "id": "3lf2d5HnX-cG"
      }
    }
  ]
}