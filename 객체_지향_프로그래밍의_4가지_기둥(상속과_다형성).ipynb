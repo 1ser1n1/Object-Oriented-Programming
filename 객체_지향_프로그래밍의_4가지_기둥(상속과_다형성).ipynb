{
  "nbformat": 4,
  "nbformat_minor": 0,
  "metadata": {
    "colab": {
      "name": "객체 지향 프로그래밍의 4가지 기둥(상속과 다형성)",
      "provenance": [],
      "authorship_tag": "ABX9TyOJalD8FtfZ11UNj6uHfb77",
      "include_colab_link": true
    },
    "kernelspec": {
      "name": "python3",
      "display_name": "Python 3"
    },
    "language_info": {
      "name": "python"
    }
  },
  "cells": [
    {
      "cell_type": "markdown",
      "metadata": {
        "id": "view-in-github",
        "colab_type": "text"
      },
      "source": [
        "<a href=\"https://colab.research.google.com/github/1ser1n1/Object-Oriented-Programming/blob/main/%EA%B0%9D%EC%B2%B4_%EC%A7%80%ED%96%A5_%ED%94%84%EB%A1%9C%EA%B7%B8%EB%9E%98%EB%B0%8D%EC%9D%98_4%EA%B0%80%EC%A7%80_%EA%B8%B0%EB%91%A5(%EC%83%81%EC%86%8D%EA%B3%BC_%EB%8B%A4%ED%98%95%EC%84%B1).ipynb\" target=\"_parent\"><img src=\"https://colab.research.google.com/assets/colab-badge.svg\" alt=\"Open In Colab\"/></a>"
      ]
    },
    {
      "cell_type": "markdown",
      "source": [
        "# **상속**"
      ],
      "metadata": {
        "id": "4_OKbsHhNeOo"
      }
    },
    {
      "cell_type": "markdown",
      "source": [
        "# **상속이란?** 두 클래스 사이에 부모 - 자식 관계를 설정하는 것\n",
        "\n",
        "\n",
        "\n",
        "> ex. 클래스간 '*A는 B다*'의 개념이 성립할 때 A클래스는 B클래스에 포함됨.\n",
        "즉 B는 부모클래스 A는, B의 자식클래스 관계임.\n",
        "\n",
        "자식클래스는 부모클래스의 변수와 메소드를 물려받아 사용가능하다.\n",
        "\n",
        "**-> 코드 중복을 최소화시켜줌**\n",
        "\n",
        "1. 부모 클래스 정의하기\n",
        "공통 부분으로만 이루어진 클래스 만들기.\n",
        "상속관계는 자식클래스 이름 뒤 괄호안에 부모클래스의 이름을 작성하면 됨.\n",
        "\n",
        "\n",
        "\n",
        "---\n",
        "## **오버라이딩**: 자식 클래스가 부모클래스로 부터 물려받은 내용을 자신의 클래스에 맞게 수정하는 것\n",
        "\n",
        "super()함수란: 자식클래스에서 부모클래스의 메소드를 사용하고 싶을 때 사용하는 함수\n",
        "\n",
        "\n",
        "```\n",
        "# class 자식클래스(부모클래스):\n",
        "  def __init__(value1, value2):\n",
        "    super().__init__(value1)\n",
        "    self.value2 = value2\n",
        "```\n",
        "\n",
        "\n",
        "\n",
        "\n",
        "\n",
        "\n",
        "\n",
        "\n"
      ],
      "metadata": {
        "id": "L6Nm_pWwNgnJ"
      }
    },
    {
      "cell_type": "markdown",
      "source": [
        "# **다형성**\n",
        "\n",
        "## **다형성이란?** 하나의 변수가 서로다른 클래스의 인스턴스를 가리킬 수 있는 성질\n",
        "\n",
        "\n",
        "> isinstance(인스턴스, 클래스/데이터타입)\n",
        ">: 인스턴스가 데이터 타입에 일치한다면 true, 아니면 false 반환\n",
        "> 이것은 클래스간 상속관계를 파악하는데에도 도움이 됨\n",
        "\n",
        "\n",
        "\n",
        "```\n",
        "# ex\n",
        "class food:\n",
        "  pass\n",
        "\n",
        "class pizza(food):\n",
        "  pass\n",
        "\n",
        "food_check = food()\n",
        "result = isinstance(food_Check,food)\n",
        "print(result)\n",
        "==> true 반환\n",
        "\n",
        "pizza_check = pizza()\n",
        "result = isinstance(pizza_check, food)\n",
        "print(result)\n",
        "\n",
        "==>true 반환\n",
        "\n",
        "```\n",
        "\n",
        "\n"
      ],
      "metadata": {
        "id": "S4AZnD4t_Hoo"
      }
    },
    {
      "cell_type": "markdown",
      "source": [
        "## **추상 클래스**\n",
        "\n",
        "abc 모듈 및 데코레이터"
      ],
      "metadata": {
        "id": "yYzrbzzB7zNt"
      }
    },
    {
      "cell_type": "code",
      "source": [
        "from abc import ABC, abstractmethod\n",
        "\n",
        "# 동물을 나타내는 추상 클래스\n",
        "class Animal(ABC):\n",
        "    @abstractmethod\n",
        "    def run(self):\n",
        "        pass\n",
        "\n",
        "# 강아지\n",
        "class Dog(Animal):\n",
        "    def __init__(self, speed_value):\n",
        "        self.speed = speed_value\n",
        "\n",
        "    def run(self):\n",
        "        print(\"강아지가 {}km/h의 속도로 달립니다.\".format(self.speed))\n",
        "\n",
        "# 고양이\n",
        "class Cat(Animal):\n",
        "    def __init__(self, speed_value):\n",
        "        self.speed = speed_value\n",
        "\n",
        "    def run(self):\n",
        "        print(\"고양이가 {}km/h의 속도로 달립니다.\".format(self.speed))"
      ],
      "metadata": {
        "id": "X_nagbK38jzs"
      },
      "execution_count": null,
      "outputs": []
    },
    {
      "cell_type": "markdown",
      "source": [
        "## from abc import ABC란 클래스들의 가장 큰 틀이되는 추상클래스를 표현하는 데에 쓰임\n",
        "\n",
        "이때 animal 클래스는 dog와 cat클래스의 베이스가 되는 추상 클래스임\n",
        "\n",
        "**@abstaractmethod 데코레이터**가 적용된 함수는 상속 클래스가 필수로 상속받아서 오버라이딩 해야함,\n",
        "\n",
        "### **특징**\n",
        "\n",
        "\n",
        "*   추상클래스가 되기위해서는 ABC를 상속받고 추상 메소드를 하나라도 가져와야한다.\n",
        "*   추상 클래스로는 인스턴스를 생성할 수 없다.\n",
        "*   추상 클래스를 상속받은 일반클래스는 물려받은 추상 메소드를 꼭 오버라이딩 해야한다!\n",
        "\n"
      ],
      "metadata": {
        "id": "wPq_Tzmy8mcy"
      }
    }
  ]
}